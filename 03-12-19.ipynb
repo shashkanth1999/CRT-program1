{
 "cells": [
  {
   "cell_type": "code",
   "execution_count": 1,
   "metadata": {},
   "outputs": [
    {
     "name": "stdout",
     "output_type": "stream",
     "text": [
      "welcome to my world\n"
     ]
    }
   ],
   "source": [
    "print(\"welcome to my world\")"
   ]
  },
  {
   "cell_type": "markdown",
   "metadata": {},
   "source": [
    "x=123456\n",
    "print(x)"
   ]
  },
  {
   "cell_type": "markdown",
   "metadata": {},
   "source": [
    "# markdown\n",
    "## markdown\n",
    "### markdown\n",
    "#### markdown"
   ]
  },
  {
   "cell_type": "markdown",
   "metadata": {},
   "source": [
    "# image insertion\n",
    "![text](https://cdn.britannica.com/74/114874-050-6E04C88C/North-Face-Mount-Everest-Tibet-Autonomous-Region.jpg)"
   ]
  },
  {
   "cell_type": "markdown",
   "metadata": {},
   "source": [
    "### ordered list\n",
    "1.abc\n",
    "2.efg\n",
    "  1.a\n",
    "  2.b\n",
    "3.hij\n",
    "  1.c\n",
    "  2.d"
   ]
  },
  {
   "cell_type": "markdown",
   "metadata": {},
   "source": [
    "### \"bold and single\" italic text\n",
    "**gitam**\n"
   ]
  },
  {
   "cell_type": "code",
   "execution_count": 4,
   "metadata": {},
   "outputs": [
    {
     "data": {
      "text/plain": [
       "30"
      ]
     },
     "execution_count": 4,
     "metadata": {},
     "output_type": "execute_result"
    }
   ],
   "source": [
    "# variable creation\n",
    "a=10\n",
    "b=20\n",
    "a+b"
   ]
  },
  {
   "cell_type": "code",
   "execution_count": 5,
   "metadata": {},
   "outputs": [
    {
     "name": "stdout",
     "output_type": "stream",
     "text": [
      "university:gitam\n"
     ]
    }
   ],
   "source": [
    "name= \"gitam\"\n",
    "print(\"university:\"+name)"
   ]
  },
  {
   "cell_type": "code",
   "execution_count": 6,
   "metadata": {},
   "outputs": [
    {
     "name": "stdout",
     "output_type": "stream",
     "text": [
      "enter the namesachin tendulkar\n",
      "enter the age25\n",
      "my name is sachin tendulkar and my age is 25\n"
     ]
    }
   ],
   "source": [
    "name=input(\"enter the name\")\n",
    "age =int(input(\"enter the age\"))\n",
    "print(\"my name is\",name,\"and my age is\",age)"
   ]
  },
  {
   "cell_type": "code",
   "execution_count": 10,
   "metadata": {},
   "outputs": [
    {
     "name": "stdout",
     "output_type": "stream",
     "text": [
      "enter the value a10\n",
      "enter the value of b20\n",
      "the following are the arthematic operations sum 30 multiplication 200 division 0.5\n"
     ]
    }
   ],
   "source": [
    "a=int(input(\"enter the value a\"))\n",
    "b=int(input(\"enter the value of b\"))\n",
    "c=a+b\n",
    "d=a*b\n",
    "e=a/b\n",
    "print(\"the following are the arthematic operations\",\"sum\",c,\"multiplication\",d,\"division\",e)"
   ]
  },
  {
   "cell_type": "code",
   "execution_count": 11,
   "metadata": {},
   "outputs": [
    {
     "name": "stdout",
     "output_type": "stream",
     "text": [
      "<class 'int'> <class 'float'> <class 'complex'>\n"
     ]
    }
   ],
   "source": [
    "a=12\n",
    "b=13.3\n",
    "c=2+5j\n",
    "print(type(a),type(b),type(c))"
   ]
  },
  {
   "cell_type": "code",
   "execution_count": 12,
   "metadata": {},
   "outputs": [
    {
     "name": "stdout",
     "output_type": "stream",
     "text": [
      "(3+4j)\n"
     ]
    }
   ],
   "source": [
    "c=complex(3,4)\n",
    "print(c)"
   ]
  },
  {
   "cell_type": "code",
   "execution_count": 13,
   "metadata": {},
   "outputs": [
    {
     "name": "stdout",
     "output_type": "stream",
     "text": [
      "sum (6+11j) sub (2-1j) multi (-22+34j) division (0.95-0.35000000000000003j)\n"
     ]
    }
   ],
   "source": [
    "c1=4+5j\n",
    "c2=2+6j\n",
    "a=c1+c2\n",
    "b=c1-c2\n",
    "c=c1*c2\n",
    "d=c1/c2\n",
    "print(\"sum\",a,\"sub\",b,\"multi\",c,\"division\",d)"
   ]
  },
  {
   "cell_type": "code",
   "execution_count": 14,
   "metadata": {},
   "outputs": [
    {
     "name": "stdout",
     "output_type": "stream",
     "text": [
      "<class 'str'> <class 'str'>\n"
     ]
    }
   ],
   "source": [
    "a=\"abc\"\n",
    "b=\"efg\"\n",
    "print(type(a),type(b))"
   ]
  },
  {
   "cell_type": "code",
   "execution_count": 16,
   "metadata": {},
   "outputs": [
    {
     "name": "stdout",
     "output_type": "stream",
     "text": [
      "<class 'str'>\n",
      "<class 'int'>\n",
      "<class 'int'>\n",
      "1\n"
     ]
    }
   ],
   "source": [
    "s1=\"500\"\n",
    "print(type(s1))\n",
    "a=int(s1)\n",
    "print(type(a))\n",
    "f=1.5\n",
    "a1=int(f)\n",
    "print(type(a1))\n",
    "print(a1)"
   ]
  },
  {
   "cell_type": "code",
   "execution_count": 17,
   "metadata": {},
   "outputs": [
    {
     "name": "stdout",
     "output_type": "stream",
     "text": [
      "4\n"
     ]
    }
   ],
   "source": [
    "a=1234\n",
    "b=len(str(a))\n",
    "print(b)"
   ]
  },
  {
   "cell_type": "code",
   "execution_count": 18,
   "metadata": {},
   "outputs": [
    {
     "name": "stdout",
     "output_type": "stream",
     "text": [
      "a=3,b=2\n",
      "[+]: 5 [-]: 1 [*]: 6 [/] 1.5 [**]: 9 [//]: 1\n"
     ]
    }
   ],
   "source": [
    "print(\"a=3,b=2\")\n",
    "print(\"[+]:\",3+2,\"[-]:\",3-2,\"[*]:\",3*2,\"[/]\",3/2,\"[**]:\",3**2,\"[//]:\",3//2)"
   ]
  },
  {
   "cell_type": "code",
   "execution_count": 20,
   "metadata": {},
   "outputs": [
    {
     "name": "stdout",
     "output_type": "stream",
     "text": [
      "False\n",
      "True\n",
      "False\n",
      "True\n",
      "False\n",
      "True\n"
     ]
    }
   ],
   "source": [
    "# relation operator\n",
    "a=2\n",
    "b=3\n",
    "print(a>b)\n",
    "print(a<b)\n",
    "print(a==b)\n",
    "print(a!=b)\n",
    "print(a>=b)\n",
    "print(a<=b)\n"
   ]
  },
  {
   "cell_type": "code",
   "execution_count": 21,
   "metadata": {},
   "outputs": [
    {
     "name": "stdout",
     "output_type": "stream",
     "text": [
      "False\n",
      "True\n",
      "False\n",
      "True\n",
      "False\n"
     ]
    }
   ],
   "source": [
    "# logical operators\n",
    "print(3>=2 and 4<=3)\n",
    "print(not 7>10)\n",
    "print(not 7>3)\n",
    "print(not 0)\n",
    "print(not 4)"
   ]
  },
  {
   "cell_type": "code",
   "execution_count": 22,
   "metadata": {},
   "outputs": [
    {
     "name": "stdout",
     "output_type": "stream",
     "text": [
      "True\n",
      "False\n",
      "True\n",
      "False\n",
      "False\n",
      "True\n"
     ]
    }
   ],
   "source": [
    "print(3>2)\n",
    "print(3<2)\n",
    "print(3>=2)\n",
    "print(3<=2)\n",
    "print(3==2)\n",
    "print(3!=2)"
   ]
  },
  {
   "cell_type": "markdown",
   "metadata": {},
   "source": [
    "# membership operators\n",
    "# in-->true if value is found in sequence\n",
    "# not in -->true if value is not found in sequence"
   ]
  },
  {
   "cell_type": "code",
   "execution_count": 23,
   "metadata": {},
   "outputs": [
    {
     "name": "stdout",
     "output_type": "stream",
     "text": [
      "True\n",
      "False\n",
      "False\n",
      "True\n"
     ]
    }
   ],
   "source": [
    "list=[1,2,3,4]\n",
    "print(1 in list)\n",
    "print(5 in list)\n",
    "print(1 not in list)\n",
    "print(5 not in list)"
   ]
  },
  {
   "cell_type": "markdown",
   "metadata": {},
   "source": [
    "## conditional statements\n",
    "1. if\n",
    "2. else\n",
    "3. elif\n",
    "## syntax\n",
    "#### if condition\n",
    "> statement<br>\n",
    "#### else:\n",
    "> statement\n",
    "\n",
    "\n"
   ]
  },
  {
   "cell_type": "code",
   "execution_count": 24,
   "metadata": {},
   "outputs": [
    {
     "name": "stdout",
     "output_type": "stream",
     "text": [
      "enter a number23\n",
      "odd\n"
     ]
    }
   ],
   "source": [
    "a=int(input(\"enter a number\"))\n",
    "if a%2 == 0:\n",
    "    print(\"even number\")\n",
    "else:\n",
    "    print(\"odd\")"
   ]
  },
  {
   "cell_type": "code",
   "execution_count": 26,
   "metadata": {},
   "outputs": [
    {
     "name": "stdout",
     "output_type": "stream",
     "text": [
      "enter a number15\n",
      "it is multiple of 3 and 5\n"
     ]
    }
   ],
   "source": [
    "a=int(input(\"enter a number\"))\n",
    "if a%3==0 and a%5==0:\n",
    "    print(\"it is multiple of 3 and 5\")\n",
    "else:\n",
    "    print(\"it is not multiple of 3 and 5\")"
   ]
  },
  {
   "cell_type": "code",
   "execution_count": 28,
   "metadata": {},
   "outputs": [
    {
     "name": "stdout",
     "output_type": "stream",
     "text": [
      "enter a number-5\n",
      "it is negative\n"
     ]
    }
   ],
   "source": [
    "b=int(input(\"enter a number\"))\n",
    "if b==0:\n",
    "    print(\"it is zero\")\n",
    "elif b>0:\n",
    "    print(\"it is positive\")\n",
    "else:\n",
    "    print(\"it is negative\")"
   ]
  },
  {
   "cell_type": "code",
   "execution_count": 29,
   "metadata": {},
   "outputs": [
    {
     "name": "stdout",
     "output_type": "stream",
     "text": [
      "enter the year2050\n",
      "its not aleap year\n"
     ]
    }
   ],
   "source": [
    "a=int(input(\"enter the year\"))\n",
    "if a%4==0 and a%100!=0 or a%400==0:\n",
    "    print(\"it is a leap year\")\n",
    "else:\n",
    "    print(\"its not aleap year\")"
   ]
  },
  {
   "cell_type": "markdown",
   "metadata": {},
   "source": [
    "# loop\n",
    "## while loop\n",
    "## for loop\n"
   ]
  },
  {
   "cell_type": "code",
   "execution_count": 38,
   "metadata": {},
   "outputs": [
    {
     "name": "stdout",
     "output_type": "stream",
     "text": [
      "enter a number20\n",
      "1 2 3 4 5 6 7 8 9 10 11 12 13 14 15 16 17 18 19 20 "
     ]
    }
   ],
   "source": [
    "# while loop\n",
    "# print 1 to n\n",
    "a=int(input(\"enter a number\"))\n",
    "i=1\n",
    "while a>=i:\n",
    "        print(i,end=\" \") #if end=not present op=123..\n",
    "        i=i+1"
   ]
  },
  {
   "cell_type": "code",
   "execution_count": 40,
   "metadata": {},
   "outputs": [
    {
     "name": "stdout",
     "output_type": "stream",
     "text": [
      "enter a number5\n",
      "sum of even numbers till 5 is 0\n",
      "sum of even numbers till 5 is 2\n",
      "sum of even numbers till 5 is 2\n",
      "sum of even numbers till 5 is 6\n",
      "sum of even numbers till 5 is 6\n"
     ]
    }
   ],
   "source": [
    "a=int(input(\"enter a number\"))\n",
    "i=1\n",
    "s=0\n",
    "while a>=i:\n",
    "    if i%2==0:\n",
    "        s=s+i\n",
    "    i=i+1\n",
    "    print(\"sum of even numbers till\" ,a,\"is\",s)"
   ]
  }
 ],
 "metadata": {
  "kernelspec": {
   "display_name": "Python 3",
   "language": "python",
   "name": "python3"
  },
  "language_info": {
   "codemirror_mode": {
    "name": "ipython",
    "version": 3
   },
   "file_extension": ".py",
   "mimetype": "text/x-python",
   "name": "python",
   "nbconvert_exporter": "python",
   "pygments_lexer": "ipython3",
   "version": "3.7.3"
  }
 },
 "nbformat": 4,
 "nbformat_minor": 2
}
