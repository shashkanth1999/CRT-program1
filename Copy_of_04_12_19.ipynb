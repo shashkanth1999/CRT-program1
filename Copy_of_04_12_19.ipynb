{
  "nbformat": 4,
  "nbformat_minor": 0,
  "metadata": {
    "colab": {
      "name": "Copy of 04-12-19",
      "provenance": [],
      "include_colab_link": true
    },
    "kernelspec": {
      "name": "python3",
      "display_name": "Python 3"
    }
  },
  "cells": [
    {
      "cell_type": "markdown",
      "metadata": {
        "id": "view-in-github",
        "colab_type": "text"
      },
      "source": [
        "<a href=\"https://colab.research.google.com/github/shashkanth1999/CRT-program1/blob/master/Copy_of_04_12_19.ipynb\" target=\"_parent\"><img src=\"https://colab.research.google.com/assets/colab-badge.svg\" alt=\"Open In Colab\"/></a>"
      ]
    },
    {
      "cell_type": "code",
      "metadata": {
        "id": "J3Dd5BR373Un",
        "colab_type": "code",
        "outputId": "4e42a2e1-cd33-4bfa-b21b-dfcb7514e349",
        "colab": {
          "base_uri": "https://localhost:8080/",
          "height": 34
        }
      },
      "source": [
        "print(\"welcome\")"
      ],
      "execution_count": 0,
      "outputs": [
        {
          "output_type": "stream",
          "text": [
            "welcome\n"
          ],
          "name": "stdout"
        }
      ]
    },
    {
      "cell_type": "code",
      "metadata": {
        "id": "u1xnv3tJ-PF-",
        "colab_type": "code",
        "outputId": "dc9de03a-aee3-49c0-c65c-f3deb5e312cd",
        "colab": {
          "base_uri": "https://localhost:8080/",
          "height": 34
        }
      },
      "source": [
        "a=10\n",
        "b=13.9\n",
        "c=4+2j\n",
        "print(type(a),type(b),type(c))"
      ],
      "execution_count": 0,
      "outputs": [
        {
          "output_type": "stream",
          "text": [
            "<class 'int'> <class 'float'> <class 'complex'>\n"
          ],
          "name": "stdout"
        }
      ]
    },
    {
      "cell_type": "markdown",
      "metadata": {
        "id": "NJlcRBM_C1hb",
        "colab_type": "text"
      },
      "source": [
        "# functional programming\n",
        "1. simple.  \n",
        "2. easy to understand\n",
        "3. better reuseability\n",
        "4. length of program will be subdivided"
      ]
    },
    {
      "cell_type": "code",
      "metadata": {
        "id": "RcDtdOdMDXCz",
        "colab_type": "code",
        "colab": {}
      },
      "source": [
        "# syntax \n",
        "def function_name(<parameter>):\n",
        "  statement\n",
        "  return"
      ],
      "execution_count": 0,
      "outputs": []
    },
    {
      "cell_type": "code",
      "metadata": {
        "id": "hd1jm_pkDupB",
        "colab_type": "code",
        "outputId": "db5f56b8-3c52-4342-a682-644c363c7218",
        "colab": {
          "base_uri": "https://localhost:8080/",
          "height": 34
        }
      },
      "source": [
        "# read a number and print even digits sum\n",
        " def evendigsum(n):\n",
        "   s=0\n",
        "   while n!=0:\n",
        "     r=n%10\n",
        "     if r%2==0:\n",
        "       s=s+r\n",
        "     n=n//10\n",
        "   return s\n",
        " evendigsum(514)      \n"
      ],
      "execution_count": 0,
      "outputs": [
        {
          "output_type": "execute_result",
          "data": {
            "text/plain": [
              "4"
            ]
          },
          "metadata": {
            "tags": []
          },
          "execution_count": 5
        }
      ]
    },
    {
      "cell_type": "code",
      "metadata": {
        "id": "JO2KzcHSGerR",
        "colab_type": "code",
        "outputId": "15082c9a-5b3f-47f4-ea61-61c81c89c9f0",
        "colab": {
          "base_uri": "https://localhost:8080/",
          "height": 51
        }
      },
      "source": [
        "def square(x):\n",
        "    print(x*x)\n",
        "print(square(4))"
      ],
      "execution_count": 0,
      "outputs": [
        {
          "output_type": "stream",
          "text": [
            "16\n",
            "None\n"
          ],
          "name": "stdout"
        }
      ]
    },
    {
      "cell_type": "code",
      "metadata": {
        "id": "sM13awyTH8M5",
        "colab_type": "code",
        "outputId": "3a620a7d-3ff2-4e95-e5b5-76f0efa1ac69",
        "colab": {
          "base_uri": "https://localhost:8080/",
          "height": 34
        }
      },
      "source": [
        "def square(x):\n",
        "  return x*x\n",
        "square(4)\n",
        "q=square(5)\n",
        "print(q)\n",
        "   "
      ],
      "execution_count": 0,
      "outputs": [
        {
          "output_type": "stream",
          "text": [
            "25\n"
          ],
          "name": "stdout"
        }
      ]
    },
    {
      "cell_type": "code",
      "metadata": {
        "id": "OLuaSsMtI205",
        "colab_type": "code",
        "outputId": "9fce7f46-7d38-424f-829c-b4df441c797e",
        "colab": {
          "base_uri": "https://localhost:8080/",
          "height": 170
        }
      },
      "source": [
        "def multiply(x,y=0):\n",
        "  print(\"value of x=\",x)\n",
        "  print(\"value o0f y=\",y)\n",
        "  return(x*y)\n",
        "print(multiply(1,2))\n",
        "print(multiply(y=3,x=4))\n",
        "print(multiply(3))"
      ],
      "execution_count": 0,
      "outputs": [
        {
          "output_type": "stream",
          "text": [
            "value of x= 1\n",
            "value o0f y= 2\n",
            "2\n",
            "value of x= 4\n",
            "value o0f y= 3\n",
            "12\n",
            "value of x= 3\n",
            "value o0f y= 0\n",
            "0\n"
          ],
          "name": "stdout"
        }
      ]
    },
    {
      "cell_type": "code",
      "metadata": {
        "id": "J0QX3PmvKADj",
        "colab_type": "code",
        "outputId": "037a2ecf-d376-4ea9-abdf-aa2f1b641e87",
        "colab": {
          "base_uri": "https://localhost:8080/",
          "height": 102
        }
      },
      "source": [
        "# swap values\n",
        "def swap(x,y):\n",
        "  print(\"x is\",x)\n",
        "  print(\"y is\",y)\n",
        "  t=x\n",
        "  x=y\n",
        "  y=t\n",
        "  print(\"new x is\",x)\n",
        "  print(\"new y is\",y)\n",
        "  return x,y\n",
        "swap(8,9)"
      ],
      "execution_count": 0,
      "outputs": [
        {
          "output_type": "stream",
          "text": [
            "x is 8\n",
            "y is 9\n",
            "new x is 9\n",
            "new y is 8\n"
          ],
          "name": "stdout"
        },
        {
          "output_type": "execute_result",
          "data": {
            "text/plain": [
              "(9, 8)"
            ]
          },
          "metadata": {
            "tags": []
          },
          "execution_count": 20
        }
      ]
    },
    {
      "cell_type": "code",
      "metadata": {
        "id": "wH5MEE1ENWd9",
        "colab_type": "code",
        "outputId": "746c59e1-1d5f-453e-c694-d386e156992f",
        "colab": {
          "base_uri": "https://localhost:8080/",
          "height": 34
        }
      },
      "source": [
        "# large digit of the number\n",
        "def largedigit(n):\n",
        "    large = 0\n",
        "    while n!=0:\n",
        "      r=n%10\n",
        "      if large < r:\n",
        "        large = r\n",
        "      n=n//10\n",
        "    return large\n",
        "largedigit(1234356789)    \n",
        "       "
      ],
      "execution_count": 0,
      "outputs": [
        {
          "output_type": "execute_result",
          "data": {
            "text/plain": [
              "9"
            ]
          },
          "metadata": {
            "tags": []
          },
          "execution_count": 21
        }
      ]
    },
    {
      "cell_type": "markdown",
      "metadata": {
        "id": "owE0KqoHRDX4",
        "colab_type": "text"
      },
      "source": [
        "## for loop\n",
        "##### syntax 1:\n",
        "for i in range (start,stop,step):\n",
        "> statements\n",
        "##### syntax 2:\n",
        "for i in interableobject:\n",
        "> statements\n",
        "\n",
        "\n"
      ]
    },
    {
      "cell_type": "code",
      "metadata": {
        "id": "fScRgDqnRvLY",
        "colab_type": "code",
        "outputId": "32e97e70-5749-4a2c-f797-dc59fafd1d33",
        "colab": {
          "base_uri": "https://localhost:8080/",
          "height": 34
        }
      },
      "source": [
        "def print_series(lb,ub):\n",
        "  for x in range(lb,ub+1):\n",
        "    print(x,end = \" \")\n",
        "  return\n",
        "print_series(1,20)    \n"
      ],
      "execution_count": 0,
      "outputs": [
        {
          "output_type": "stream",
          "text": [
            "1 2 3 4 5 6 7 8 9 10 11 12 13 14 15 16 17 18 19 20 "
          ],
          "name": "stdout"
        }
      ]
    },
    {
      "cell_type": "markdown",
      "metadata": {
        "id": "3t1vyvsDUxz_",
        "colab_type": "text"
      },
      "source": [
        "## collection types:\n",
        "1. list\n",
        "2. tuple\n",
        "3. set\n",
        "4.dictionary"
      ]
    },
    {
      "cell_type": "markdown",
      "metadata": {
        "id": "BtCMPqrwVeuH",
        "colab_type": "text"
      },
      "source": [
        ""
      ]
    },
    {
      "cell_type": "markdown",
      "metadata": {
        "id": "OrKNN0OEVhcZ",
        "colab_type": "text"
      },
      "source": [
        "## list:\n",
        "1. one of the data structure in python.\n",
        "2. data structur have store,sort and search option\n",
        "3. its a common data structure in python, items of the list are seperated by coma and are enclosed in []\n",
        "\n",
        "#### example\n",
        "- list1=[1,2,3,4]\n",
        "- list2=[\"gitam\",1,2,3]\n",
        "\n",
        "\n",
        "- adress --> 0,1,2 (index)\n",
        "     list=[1,2,3]\n",
        "          -3,-2,-1 <--index    "
      ]
    },
    {
      "cell_type": "code",
      "metadata": {
        "id": "Xlq-CfjmX2pk",
        "colab_type": "code",
        "outputId": "a1698242-0e20-4ffa-abcd-289f0e78a3c1",
        "colab": {
          "base_uri": "https://localhost:8080/",
          "height": 119
        }
      },
      "source": [
        "list = [1,2,3,4,5,6,7,8]\n",
        "print(list)\n",
        "print(list[2])\n",
        "print(list[-6])\n",
        "print(list[2:])\n",
        "print(list[2:5])\n",
        "print(list[6:-3])"
      ],
      "execution_count": 0,
      "outputs": [
        {
          "output_type": "stream",
          "text": [
            "[1, 2, 3, 4, 5, 6, 7, 8]\n",
            "3\n",
            "3\n",
            "[3, 4, 5, 6, 7, 8]\n",
            "[3, 4, 5]\n",
            "[]\n"
          ],
          "name": "stdout"
        }
      ]
    },
    {
      "cell_type": "code",
      "metadata": {
        "id": "p-9iUtgUbjQ1",
        "colab_type": "code",
        "outputId": "b4c53115-5635-410f-ef3e-5b310f4a3052",
        "colab": {
          "base_uri": "https://localhost:8080/",
          "height": 85
        }
      },
      "source": [
        "lili=[1,2,3,'gitam']\n",
        "print(lili)\n",
        "lili[2]=475\n",
        "print(lili)\n",
        "lili[3]=34\n",
        "print(lili)\n",
        "lili[1]='tour'\n",
        "print(lili)"
      ],
      "execution_count": 0,
      "outputs": [
        {
          "output_type": "stream",
          "text": [
            "[1, 2, 3, 'gitam']\n",
            "[1, 2, 475, 'gitam']\n",
            "[1, 2, 475, 34]\n",
            "[1, 'tour', 475, 34]\n"
          ],
          "name": "stdout"
        }
      ]
    }
  ]
}