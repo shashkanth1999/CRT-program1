{
  "nbformat": 4,
  "nbformat_minor": 0,
  "metadata": {
    "colab": {
      "name": "5-12-19",
      "provenance": [],
      "include_colab_link": true
    },
    "kernelspec": {
      "name": "python3",
      "display_name": "Python 3"
    }
  },
  "cells": [
    {
      "cell_type": "markdown",
      "metadata": {
        "id": "view-in-github",
        "colab_type": "text"
      },
      "source": [
        "<a href=\"https://colab.research.google.com/github/shashkanth1999/CRT-program1/blob/master/5_12_19.ipynb\" target=\"_parent\"><img src=\"https://colab.research.google.com/assets/colab-badge.svg\" alt=\"Open In Colab\"/></a>"
      ]
    },
    {
      "cell_type": "code",
      "metadata": {
        "id": "I2n7HuXuJpM7",
        "colab_type": "code",
        "colab": {
          "base_uri": "https://localhost:8080/",
          "height": 85
        },
        "outputId": "1473224b-21cf-4221-d818-0b21271ed907"
      },
      "source": [
        "# basic list functions\n",
        "li = [1,9,16,25,5]\n",
        "print(max(li))\n",
        "print(min(li))\n",
        "print(sum(li))\n",
        "print(sum(li)//len(li))"
      ],
      "execution_count": 1,
      "outputs": [
        {
          "output_type": "stream",
          "text": [
            "25\n",
            "1\n",
            "56\n",
            "11\n"
          ],
          "name": "stdout"
        }
      ]
    },
    {
      "cell_type": "code",
      "metadata": {
        "id": "QSbBh0OkKbqp",
        "colab_type": "code",
        "colab": {
          "base_uri": "https://localhost:8080/",
          "height": 34
        },
        "outputId": "2a148fa3-dc66-4539-c43f-c34517257397"
      },
      "source": [
        "li = [1,9,16,25,5]\n",
        "li.append(29)\n",
        "li.insert(2,56)\n",
        "li# li.append(9)\n",
        "li.count(9) # return the value \n",
        "\n",
        "li.index(56) "
      ],
      "execution_count": 2,
      "outputs": [
        {
          "output_type": "execute_result",
          "data": {
            "text/plain": [
              "2"
            ]
          },
          "metadata": {
            "tags": []
          },
          "execution_count": 2
        }
      ]
    },
    {
      "cell_type": "code",
      "metadata": {
        "id": "ZvITqm_aM5Lb",
        "colab_type": "code",
        "colab": {
          "base_uri": "https://localhost:8080/",
          "height": 34
        },
        "outputId": "0b3adc84-ae2b-4598-a5fb-f5e7b6c0b2ab"
      },
      "source": [
        "# method of list of object\n",
        "li = [1,9,16,25,5,9]\n",
        "# li.sort() # sort the list in ascending order \n",
        "li.pop() # last index value\n",
        "li\n",
        "#li.pop(1) # remove the items from the list\n",
        "# li\n"
      ],
      "execution_count": 4,
      "outputs": [
        {
          "output_type": "execute_result",
          "data": {
            "text/plain": [
              "[1, 9, 16, 25, 5]"
            ]
          },
          "metadata": {
            "tags": []
          },
          "execution_count": 4
        }
      ]
    },
    {
      "cell_type": "code",
      "metadata": {
        "id": "OCvnDd7JOMMY",
        "colab_type": "code",
        "colab": {
          "base_uri": "https://localhost:8080/",
          "height": 34
        },
        "outputId": "520d9c75-5d01-442c-be35-a81bdadf87f2"
      },
      "source": [
        "li=[1,2,16,56,25,5,9]\n",
        "li.pop(2) # delete the elements at index 2\n",
        "li"
      ],
      "execution_count": 5,
      "outputs": [
        {
          "output_type": "execute_result",
          "data": {
            "text/plain": [
              "[1, 2, 56, 25, 5, 9]"
            ]
          },
          "metadata": {
            "tags": []
          },
          "execution_count": 5
        }
      ]
    },
    {
      "cell_type": "code",
      "metadata": {
        "id": "QNlAS5qPO66-",
        "colab_type": "code",
        "colab": {
          "base_uri": "https://localhost:8080/",
          "height": 34
        },
        "outputId": "ff9a5fa0-0b33-4642-bb5e-61d32ed53565"
      },
      "source": [
        "li1= [1,6,9,4]\n",
        "li.extend(li1)\n",
        "li\n",
        "# li.reverse()\n",
        "# li.sort()"
      ],
      "execution_count": 6,
      "outputs": [
        {
          "output_type": "execute_result",
          "data": {
            "text/plain": [
              "[1, 2, 56, 25, 5, 9, 1, 6, 9, 4]"
            ]
          },
          "metadata": {
            "tags": []
          },
          "execution_count": 6
        }
      ]
    },
    {
      "cell_type": "code",
      "metadata": {
        "id": "Ha__3-R_PqUN",
        "colab_type": "code",
        "colab": {
          "base_uri": "https://localhost:8080/",
          "height": 34
        },
        "outputId": "21951e8e-69ef-460a-8034-9a8abc2010f4"
      },
      "source": [
        "li1 = [1,6,19,25]\n",
        "# li.extend(li1)\n",
        "li1.reverse()\n",
        "li1\n"
      ],
      "execution_count": 7,
      "outputs": [
        {
          "output_type": "execute_result",
          "data": {
            "text/plain": [
              "[25, 19, 6, 1]"
            ]
          },
          "metadata": {
            "tags": []
          },
          "execution_count": 7
        }
      ]
    },
    {
      "cell_type": "code",
      "metadata": {
        "id": "b0ib7GbORJCl",
        "colab_type": "code",
        "colab": {
          "base_uri": "https://localhost:8080/",
          "height": 51
        },
        "outputId": "898fbf66-8a76-4eec-e521-12845459a527"
      },
      "source": [
        "def largenumber(li):\n",
        "    li.sort()\n",
        "    return li[-1]\n",
        "def genericlarge(li,n):\n",
        "  li.sort()\n",
        "  return li[-n]\n",
        "li = [19,1,25,6,9,49,54]\n",
        "print(largenumber(li))\n",
        "print(genericlarge(li,3))"
      ],
      "execution_count": 21,
      "outputs": [
        {
          "output_type": "stream",
          "text": [
            "54\n",
            "25\n"
          ],
          "name": "stdout"
        }
      ]
    },
    {
      "cell_type": "code",
      "metadata": {
        "id": "EcZV0qL9V2Cm",
        "colab_type": "code",
        "colab": {
          "base_uri": "https://localhost:8080/",
          "height": 51
        },
        "outputId": "a921b4fd-1f5f-4f61-c1a3-4d9c06cd0a5e"
      },
      "source": [
        "def smallnumber(li):\n",
        "    li.sort()\n",
        "    return li[0]\n",
        "def genericsmall(li,n):\n",
        "   li.sort()\n",
        "   return li[n-1]\n",
        "li = [20,50,8,6,5,22] \n",
        "print(smallnumber(li))\n",
        "print(genericsmall(li,3))  "
      ],
      "execution_count": 27,
      "outputs": [
        {
          "output_type": "stream",
          "text": [
            "5\n",
            "8\n"
          ],
          "name": "stdout"
        }
      ]
    },
    {
      "cell_type": "markdown",
      "metadata": {
        "id": "THEcO_fvYAvF",
        "colab_type": "text"
      },
      "source": [
        "### Tuples\n",
        "- paranthesis() --->tuple and square brackets[]---> list\n",
        "- difference between list and tuples\n",
        "   - list are mutable - can be changed/modified\n",
        "   - used to acess and modify,add,delete data\n",
        "   - tuples are immutables - cannot be changed\n",
        "   - used to acess data only"
      ]
    },
    {
      "cell_type": "code",
      "metadata": {
        "id": "NQnMrRqHZENz",
        "colab_type": "code",
        "colab": {
          "base_uri": "https://localhost:8080/",
          "height": 34
        },
        "outputId": "f566741a-7614-463c-ad2f-6d39263a86d1"
      },
      "source": [
        "t1 = (1,2,3,4,5,6)\n",
        "t1\n",
        "print(type(t1),t1[1:5])"
      ],
      "execution_count": 28,
      "outputs": [
        {
          "output_type": "stream",
          "text": [
            "<class 'tuple'> (2, 3, 4, 5)\n"
          ],
          "name": "stdout"
        }
      ]
    },
    {
      "cell_type": "markdown",
      "metadata": {
        "id": "X8Ke0ksTbFvY",
        "colab_type": "text"
      },
      "source": [
        "### dictionaries\n",
        "1. it works on the concept of set unique data \n",
        "2. keys,values is the unique identifier for the value\n",
        "3. each key is seperated from its values with colon(:)\n",
        "4. each key and value is seperated with comma(,)\n",
        "5. dictionaries enhanced with curly braces ({})\n"
      ]
    },
    {
      "cell_type": "code",
      "metadata": {
        "id": "ErvDXwQAb2sO",
        "colab_type": "code",
        "colab": {
          "base_uri": "https://localhost:8080/",
          "height": 34
        },
        "outputId": "3d3e7c11-6182-4358-d127-de35b99fdd6a"
      },
      "source": [
        "d1 ={\"name\":\"gitam\",\"email id\":\"gitam123@gmail.com\",\"address\": \"hyderabad\"}\n",
        "d1[\"name\"] # access a specific key\n",
        "d1"
      ],
      "execution_count": 34,
      "outputs": [
        {
          "output_type": "execute_result",
          "data": {
            "text/plain": [
              "{'address': 'hyderabad', 'email id': 'gitam123@gmail.com', 'name': 'gitam'}"
            ]
          },
          "metadata": {
            "tags": []
          },
          "execution_count": 34
        }
      ]
    },
    {
      "cell_type": "code",
      "metadata": {
        "id": "WM7hamCicOWj",
        "colab_type": "code",
        "colab": {
          "base_uri": "https://localhost:8080/",
          "height": 34
        },
        "outputId": "7e29f454-dfa0-4a91-db65-2abba007eec2"
      },
      "source": [
        "d1[\"email id\"]"
      ],
      "execution_count": 35,
      "outputs": [
        {
          "output_type": "execute_result",
          "data": {
            "text/plain": [
              "'gitam123@gmail.com'"
            ]
          },
          "metadata": {
            "tags": []
          },
          "execution_count": 35
        }
      ]
    },
    {
      "cell_type": "code",
      "metadata": {
        "id": "j9630fimeRWC",
        "colab_type": "code",
        "colab": {
          "base_uri": "https://localhost:8080/",
          "height": 85
        },
        "outputId": "537721d4-e2dd-419d-e372-57e2adbeb921"
      },
      "source": [
        "d1[\"course\"] = \"python\" # adding on entry\n",
        "d1"
      ],
      "execution_count": 38,
      "outputs": [
        {
          "output_type": "execute_result",
          "data": {
            "text/plain": [
              "{'address': 'hyderabad',\n",
              " 'course': 'python',\n",
              " 'email id': 'gitam123@gmail.com',\n",
              " 'name': 'gitam'}"
            ]
          },
          "metadata": {
            "tags": []
          },
          "execution_count": 38
        }
      ]
    },
    {
      "cell_type": "code",
      "metadata": {
        "id": "NMJwjkqvfR3u",
        "colab_type": "code",
        "colab": {
          "base_uri": "https://localhost:8080/",
          "height": 34
        },
        "outputId": "81c92fbc-7807-4a44-f2dd-edebd70371e9"
      },
      "source": [
        "del d1[\"name\"]\n",
        "d1"
      ],
      "execution_count": 42,
      "outputs": [
        {
          "output_type": "execute_result",
          "data": {
            "text/plain": [
              "{'address': 'hyderabad', 'course': 'python'}"
            ]
          },
          "metadata": {
            "tags": []
          },
          "execution_count": 42
        }
      ]
    },
    {
      "cell_type": "markdown",
      "metadata": {
        "id": "k_beARcXhFcm",
        "colab_type": "text"
      },
      "source": [
        "### strings:\n",
        "- strings\n",
        "- string slicing\n",
        "- fundemental programming with string in python"
      ]
    },
    {
      "cell_type": "code",
      "metadata": {
        "id": "ybrD6KVehVpM",
        "colab_type": "code",
        "colab": {
          "base_uri": "https://localhost:8080/",
          "height": 51
        },
        "outputId": "e0d4bc34-0fcc-4d02-8c16-482ac3844953"
      },
      "source": [
        "s1 ='python'\n",
        "print(s1)\n",
        "print(type(s1))"
      ],
      "execution_count": 43,
      "outputs": [
        {
          "output_type": "stream",
          "text": [
            "python\n",
            "<class 'str'>\n"
          ],
          "name": "stdout"
        }
      ]
    },
    {
      "cell_type": "code",
      "metadata": {
        "id": "1LOE9pIBhigt",
        "colab_type": "code",
        "colab": {
          "base_uri": "https://localhost:8080/",
          "height": 85
        },
        "outputId": "e7efc88e-4a44-492a-ccf8-13f4454c654e"
      },
      "source": [
        "s1='python'\n",
        "print(s1[0]) #acess th first charecter\n",
        "print(s1[1])\n",
        "print(s1[5])\n",
        "print(s1[len(s1)-1v ])"
      ],
      "execution_count": 44,
      "outputs": [
        {
          "output_type": "stream",
          "text": [
            "p\n",
            "y\n",
            "n\n",
            "n\n"
          ],
          "name": "stdout"
        }
      ]
    },
    {
      "cell_type": "code",
      "metadata": {
        "id": "omuAAlSFpDeF",
        "colab_type": "code",
        "colab": {}
      },
      "source": [
        "### string built-in method:\n",
        "1. upper() -- will convert the input string into uper case\n",
        "2. lower() -- will convert the input string into lower case"
      ],
      "execution_count": 0,
      "outputs": []
    },
    {
      "cell_type": "code",
      "metadata": {
        "id": "vq62mxRQpk5l",
        "colab_type": "code",
        "colab": {
          "base_uri": "https://localhost:8080/",
          "height": 51
        },
        "outputId": "92b148c4-c63a-4477-a64f-a29cd16ab05c"
      },
      "source": [
        "s1 = 'pythone'\n",
        "print(s1.upper())\n",
        "print(s1.lower())"
      ],
      "execution_count": 45,
      "outputs": [
        {
          "output_type": "stream",
          "text": [
            "PYTHONE\n",
            "pythone\n"
          ],
          "name": "stdout"
        }
      ]
    },
    {
      "cell_type": "markdown",
      "metadata": {
        "id": "_uBLJulEp6eW",
        "colab_type": "text"
      },
      "source": [
        "### string boolean buit in method\n",
        "1. islower() -- true if all charesters are lower case\n",
        "2. isupper() -- true if all charecters are upper case\n",
        "3. istitle() -- true if string in little case\n",
        "4. isnumeric() -- true if string is numeric\n",
        "5. isalpha() -- true if string is only alphabet\n",
        "6. isspace() -- true if string is space\n"
      ]
    },
    {
      "cell_type": "code",
      "metadata": {
        "id": "5Aj9Dn5vqqVR",
        "colab_type": "code",
        "colab": {
          "base_uri": "https://localhost:8080/",
          "height": 34
        },
        "outputId": "018a1bdc-be64-40e0-aa50-db5689d8970b"
      },
      "source": [
        "ss ='python'\n",
        "ss.islower()\n",
        "ss.isupper()\n",
        "ss.istitle()\n",
        "ss.isalpha()\n",
        "ss.isspace()"
      ],
      "execution_count": 47,
      "outputs": [
        {
          "output_type": "execute_result",
          "data": {
            "text/plain": [
              "False"
            ]
          },
          "metadata": {
            "tags": []
          },
          "execution_count": 47
        }
      ]
    },
    {
      "cell_type": "code",
      "metadata": {
        "id": "lcaolmr4rC5e",
        "colab_type": "code",
        "colab": {
          "base_uri": "https://localhost:8080/",
          "height": 68
        },
        "outputId": "0ab16e5f-6133-462b-da0f-866cea5c7ae2"
      },
      "source": [
        "s1='pythone'\n",
        "print(s1. istitle())\n",
        "print(s1. isalpha())\n",
        "print(s1. isnumeric())"
      ],
      "execution_count": 49,
      "outputs": [
        {
          "output_type": "stream",
          "text": [
            "False\n",
            "True\n",
            "False\n"
          ],
          "name": "stdout"
        }
      ]
    },
    {
      "cell_type": "markdown",
      "metadata": {
        "id": "8mXy8jFxsFcX",
        "colab_type": "text"
      },
      "source": [
        "## string methods\n",
        "- join() -- method will concanicates the two strings\n",
        "- split() --spilt() return a list of strings seperated by whitespace(no parameters)\n",
        "- replace() -- replaces the specific word/charecter with new word/charecter"
      ]
    },
    {
      "cell_type": "code",
      "metadata": {
        "id": "u6iuuVS7tIeQ",
        "colab_type": "code",
        "colab": {
          "base_uri": "https://localhost:8080/",
          "height": 34
        },
        "outputId": "9e75c0d1-54b3-4132-ca83-3534b3d17d6a"
      },
      "source": [
        "s1='python'\n",
        "print(\" \".join(s1))"
      ],
      "execution_count": 50,
      "outputs": [
        {
          "output_type": "stream",
          "text": [
            "p y t h o n\n"
          ],
          "name": "stdout"
        }
      ]
    },
    {
      "cell_type": "code",
      "metadata": {
        "id": "G5aWXOcht_vX",
        "colab_type": "code",
        "colab": {
          "base_uri": "https://localhost:8080/",
          "height": 34
        },
        "outputId": "16fc8ccb-fd8a-4699-f083-366179a31ede"
      },
      "source": [
        "s2 =\"python program easy to learn\"\n",
        "print(s2.split())"
      ],
      "execution_count": 51,
      "outputs": [
        {
          "output_type": "stream",
          "text": [
            "['python', 'program', 'easy', 'to', 'learn']\n"
          ],
          "name": "stdout"
        }
      ]
    },
    {
      "cell_type": "code",
      "metadata": {
        "id": "q5xASj8RuUeg",
        "colab_type": "code",
        "colab": {
          "base_uri": "https://localhost:8080/",
          "height": 34
        },
        "outputId": "663f4437-2685-4993-9fc6-ca65e2d786f0"
      },
      "source": [
        "s2 = \"pythone program easy to learn\"\n",
        "print(s2.split('a'))"
      ],
      "execution_count": 52,
      "outputs": [
        {
          "output_type": "stream",
          "text": [
            "['pythone progr', 'm e', 'sy to le', 'rn']\n"
          ],
          "name": "stdout"
        }
      ]
    },
    {
      "cell_type": "code",
      "metadata": {
        "id": "bsMQpFKfulBz",
        "colab_type": "code",
        "colab": {
          "base_uri": "https://localhost:8080/",
          "height": 34
        },
        "outputId": "e5377bdc-e865-4d12-9f72-c9385a35dc1e"
      },
      "source": [
        "s2=\"pythone program easy to learn\"\n",
        "li = list(s2)\n",
        "print(li)"
      ],
      "execution_count": 53,
      "outputs": [
        {
          "output_type": "stream",
          "text": [
            "['p', 'y', 't', 'h', 'o', 'n', 'e', ' ', 'p', 'r', 'o', 'g', 'r', 'a', 'm', ' ', 'e', 'a', 's', 'y', ' ', 't', 'o', ' ', 'l', 'e', 'a', 'r', 'n']\n"
          ],
          "name": "stdout"
        }
      ]
    },
    {
      "cell_type": "code",
      "metadata": {
        "id": "gOC0W4_9vHZf",
        "colab_type": "code",
        "colab": {
          "base_uri": "https://localhost:8080/",
          "height": 34
        },
        "outputId": "db9fa8ad-c16c-40b7-d0f4-ddc2ed4d8ab4"
      },
      "source": [
        "s2 = \"python program easy to learn\"\n",
        "print(s2.replace(\"gra\",\"applications\"))"
      ],
      "execution_count": 55,
      "outputs": [
        {
          "output_type": "stream",
          "text": [
            "python proapplicationsm easy to learn\n"
          ],
          "name": "stdout"
        }
      ]
    }
  ]
}